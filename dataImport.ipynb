{
 "cells": [
  {
   "cell_type": "markdown",
   "metadata": {},
   "source": [
    "Here we will collect all the data from the youtube API and save it to a csv file in the project root directory."
   ]
  },
  {
   "cell_type": "code",
   "execution_count": null,
   "metadata": {},
   "outputs": [],
   "source": [
    "# Import necessary libraries\n",
    "\n",
    "import pandas as pd\n",
    "from googleapiclient.discovery import build\n",
    "from IPython.display import JSON\n",
    "from dotenv import load_dotenv\n",
    "import os\n",
    "import isodate"
   ]
  },
  {
   "cell_type": "code",
   "execution_count": null,
   "metadata": {},
   "outputs": [],
   "source": [
    "# Load API key from .env file\n",
    "\n",
    "load_dotenv()\n",
    "apiKey = os.getenv('API_KEY')\n"
   ]
  },
  {
   "cell_type": "markdown",
   "metadata": {},
   "source": [
    "Here we will manually list all the youtube channels that we want to collect the data for. To do so we will need both the channel name and the channel ID\n",
    "\n",
    "To find a youtube channel ID, you should:\n",
    "1. go to the channel's youtube page, \n",
    "2. right click anywhere\n",
    "3. select the option view page source\n",
    "4. Press ctrl+f\n",
    "5. search for ?channel_id"
   ]
  },
  {
   "cell_type": "code",
   "execution_count": null,
   "metadata": {},
   "outputs": [],
   "source": [
    "# Dictionary of the youtube channels \n",
    "# from which we will retrieve the data.\n",
    "# The key is the channel name and the \n",
    "# value is the ID\n",
    "\n",
    "channelIDDict = {\n",
    "    \"gorgonoid\": \"UCLfCo17TCjx7qf-JMhQioLQ\",\n",
    "    \"noticiasMaromba\": \"UCmK5h2-a4CquS4nIxDN6j7g\",\n",
    "    'albert': \"UCij0YPRA_vGwKwCyn_o9MLw\"\n",
    "}"
   ]
  },
  {
   "cell_type": "markdown",
   "metadata": {},
   "source": [
    "Now we will create the necessary functions to retrieve the data from the api."
   ]
  },
  {
   "cell_type": "code",
   "execution_count": null,
   "metadata": {},
   "outputs": [],
   "source": [
    "# Transforms the channel id dictionary to\n",
    "# a string of the channel ID's separated\n",
    "# by commas. Example: \"id1, id2, id3\"\n",
    "def channelIDDictToCommaSeparatedIDString(channelIDDict):\n",
    "\n",
    "    channelIDString = \"\"\n",
    "    firstIDAdded = False\n",
    "    for channel in channelIDDict:\n",
    "        \n",
    "        if firstIDAdded is False:\n",
    "            channelIDString += channelIDDict[channel]\n",
    "        else:\n",
    "            channelIDString +=  \", \" + channelIDDict[channel]\n",
    "\n",
    "        firstIDAdded = True\n",
    "    \n",
    "    return channelIDString"
   ]
  },
  {
   "cell_type": "code",
   "execution_count": null,
   "metadata": {},
   "outputs": [],
   "source": [
    "# Builds youtube api\n",
    "def buildYoutubeAPI():\n",
    "\n",
    "    api_service_name = \"youtube\"\n",
    "    api_version = \"v3\"\n",
    "\n",
    "    # Get credentials and create an API client\n",
    "    youtube = build(\n",
    "        api_service_name, api_version, developerKey=apiKey)\n",
    "\n",
    "    return youtube"
   ]
  },
  {
   "cell_type": "code",
   "execution_count": null,
   "metadata": {},
   "outputs": [],
   "source": [
    "# Gets the statistics of all channels\n",
    "# included in the channel dictionary\n",
    "def getAllChannelStatistics(channelIDDict): \n",
    "\n",
    "    allChannelStatistics = []\n",
    "    \n",
    "    request = buildYoutubeAPI().channels().list(\n",
    "        part=\"snippet,contentDetails,statistics\",\n",
    "        id=channelIDDictToCommaSeparatedIDString(channelIDDict)\n",
    "    )\n",
    "\n",
    "    response = request.execute()\n",
    "\n",
    "    # Loops through all channels and\n",
    "    # adds data to dataframe\n",
    "    for item in response['items']:\n",
    "        channelStatistics = {\n",
    "            \"channelName\": item['snippet']['title'],\n",
    "            'subscriberCount': item['statistics']['subscriberCount'],\n",
    "            'viewCount': item['statistics']['viewCount'],\n",
    "            'videoCount': item['statistics']['videoCount'],\n",
    "            'uploadedVideosPlaylistID': item['contentDetails']['relatedPlaylists']['uploads']\n",
    "        }\n",
    "\n",
    "        allChannelStatistics.append(channelStatistics)\n",
    "        df = pd.DataFrame(allChannelStatistics)\n",
    "    \n",
    "    return df"
   ]
  },
  {
   "cell_type": "markdown",
   "metadata": {},
   "source": [
    "Now that we have created getAllChannelStatistics() we can use it to retrieve information from the youtube channels we entered in the dictionary. Below, we will run a test to see if the channel information is being retrieved correctly."
   ]
  },
  {
   "cell_type": "code",
   "execution_count": null,
   "metadata": {},
   "outputs": [],
   "source": [
    "channelStatistics = getAllChannelStatistics(channelIDDict)\n",
    "\n",
    "channelStatistics"
   ]
  },
  {
   "cell_type": "markdown",
   "metadata": {},
   "source": [
    "Now we will create functions that enable us to get the data on each video that was uploaded by a specific channel."
   ]
  },
  {
   "cell_type": "code",
   "execution_count": null,
   "metadata": {},
   "outputs": [],
   "source": [
    "# Gets the IDs of the videos uploaded by\n",
    "# a specific channel. OBS.: the playlist\n",
    "# ID is the ID of the playlist that contains \n",
    "# all the videos of a channel.\n",
    "# Returns a list that contains all of the\n",
    "# channels video IDs\n",
    "def getUploadedVideoIDs(playlistID):\n",
    "\n",
    "    videoIDs = []\n",
    "\n",
    "    youtube = buildYoutubeAPI()\n",
    "\n",
    "    next_page_token = None\n",
    "    while True:\n",
    "        request = youtube.playlistItems().list(\n",
    "            part=\"snippet,contentDetails\",\n",
    "            playlistId=playlistID,\n",
    "            maxResults=50,\n",
    "            pageToken=next_page_token\n",
    "        )\n",
    "        response = request.execute()\n",
    "\n",
    "        for item in response['items']:\n",
    "            videoIDs.append(item['contentDetails']['videoId'])\n",
    "    \n",
    "        next_page_token = response.get('nextPageToken')\n",
    "        if not next_page_token:\n",
    "            break\n",
    "\n",
    "    return videoIDs"
   ]
  },
  {
   "cell_type": "markdown",
   "metadata": {},
   "source": [
    "Now that we have created getUploadedVideoIDs() we can use it to retrieve the video IDs of the videos the channel has uploaded. Below, we will run a test to see if the video IDs are being retrieved correctly."
   ]
  },
  {
   "cell_type": "code",
   "execution_count": null,
   "metadata": {},
   "outputs": [],
   "source": [
    "videoIDs = getUploadedVideoIDs('UULfCo17TCjx7qf-JMhQioLQ')\n",
    "\n",
    "print(videoIDs)\n",
    "\n",
    "len(videoIDs)"
   ]
  },
  {
   "cell_type": "markdown",
   "metadata": {},
   "source": [
    "Now we will create a function that iterates through all of the playlist IDs in the channel statistics dataframe, gets all of the video ID's contained in each playlist and appends them to a allVideoIDs list."
   ]
  },
  {
   "cell_type": "code",
   "execution_count": null,
   "metadata": {},
   "outputs": [],
   "source": [
    "# Retrieves all the video IDs of playlists \n",
    "# contained in whose IDs are contained in \n",
    "# a column of a dataframe\n",
    "def getAllVideoIDs(channelStatisticsDataframe):\n",
    "    allVideoIDs = []\n",
    "\n",
    "    for playlistID in channelStatisticsDataframe['uploadedVideosPlaylistID']:\n",
    "        allVideoIDs.extend(getUploadedVideoIDs(playlistID))\n",
    "\n",
    "    return allVideoIDs"
   ]
  },
  {
   "cell_type": "markdown",
   "metadata": {},
   "source": [
    "Now let's test if all the video IDs are being retrieved correctly"
   ]
  },
  {
   "cell_type": "code",
   "execution_count": null,
   "metadata": {},
   "outputs": [],
   "source": [
    "videoIDs = getAllVideoIDs(channelStatistics)\n",
    "\n",
    "print(videoIDs)\n",
    "\n",
    "len(videoIDs)"
   ]
  },
  {
   "cell_type": "markdown",
   "metadata": {},
   "source": [
    "Now let's transform the list of video IDs to a a string of comma separated video IDs."
   ]
  },
  {
   "cell_type": "code",
   "execution_count": null,
   "metadata": {},
   "outputs": [],
   "source": [
    "def videoIDListToCommaSepString(videoIDs):\n",
    "    \n",
    "    commaSepVideoIDString = \"\"\n",
    "    firstItem = True\n",
    "    \n",
    "    for videoID in videoIDs:\n",
    "        if firstItem:\n",
    "            commaSepVideoIDString += videoID\n",
    "            firstItem = False\n",
    "        else:\n",
    "            commaSepVideoIDString += \", \" + videoID\n",
    "    \n",
    "    return commaSepVideoIDString\n"
   ]
  },
  {
   "cell_type": "markdown",
   "metadata": {},
   "source": [
    "Now let's test if it correctly transforms the list of IDs to a comma separated string:"
   ]
  },
  {
   "cell_type": "code",
   "execution_count": null,
   "metadata": {},
   "outputs": [],
   "source": [
    "commaSepVideoIDString = videoIDListToCommaSepString(videoIDs)\n",
    "\n",
    "commaSepVideoIDString"
   ]
  },
  {
   "cell_type": "markdown",
   "metadata": {},
   "source": [
    "Now that we are able to get all video IDs from all the uploaded videos of all the channels we initially set in our dictionary, we can now get the individual statistics for each video. But first, let's find out what are the names of the possible category IDs a video could have so that we can include the video category in the video statistics."
   ]
  },
  {
   "cell_type": "code",
   "execution_count": null,
   "metadata": {},
   "outputs": [],
   "source": [
    "# Gets all the youtube defined video \n",
    "# categories and adds them to a  \n",
    "# dictionary that maps the id of the  \n",
    "# category to the category title\n",
    "def getVideoCategoriesBrazil():\n",
    "    request = buildYoutubeAPI().videoCategories().list(\n",
    "        part=\"snippet\",\n",
    "        regionCode='BR'\n",
    "    )\n",
    "    response = request.execute()\n",
    "\n",
    "    categories = {}\n",
    "    for item in response.get('items', []):\n",
    "        id = item['id']\n",
    "        title = item['snippet']['title']\n",
    "        categories[id] = title\n",
    "    \n",
    "    return categories"
   ]
  },
  {
   "cell_type": "markdown",
   "metadata": {},
   "source": [
    "Now let's see if we are retrieving the categories correctly."
   ]
  },
  {
   "cell_type": "code",
   "execution_count": null,
   "metadata": {},
   "outputs": [],
   "source": [
    "categories = getVideoCategoriesBrazil()\n",
    "\n",
    "print(categories)"
   ]
  },
  {
   "cell_type": "markdown",
   "metadata": {},
   "source": [
    "Now we will create a funciton that retrieves the video statistics of all the videos contained in a list of video IDs."
   ]
  },
  {
   "cell_type": "code",
   "execution_count": null,
   "metadata": {},
   "outputs": [],
   "source": [
    "# Gets all video statistics for the \n",
    "# videos that were passed as argument \n",
    "# in video ID parameter\n",
    "def getAllVideoStatistics(videoIDs):\n",
    "\n",
    "    allVideoStatistics = []\n",
    "\n",
    "    currentVideoRequestList = []\n",
    "\n",
    "    videoCategories = getVideoCategoriesBrazil()\n",
    "\n",
    "    # Iterate through videoIDs 50 at a time\n",
    "    for i in range(0, len(videoIDs), 50):\n",
    "        # Get next slice of 50 video IDs\n",
    "        currentVideoRequestList = videoIDs[i:i+50]\n",
    "\n",
    "        request = buildYoutubeAPI().videos().list(\n",
    "            part=\"snippet,contentDetails,statistics\",\n",
    "            id=currentVideoRequestList,\n",
    "            maxResults=50\n",
    "        )\n",
    "        response = request.execute()\n",
    "\n",
    "        for item in response['items']:\n",
    "            durationISO = item['contentDetails'].get('duration', None)\n",
    "            if durationISO:\n",
    "                durationTimeDelta = isodate.parse_duration(durationISO)\n",
    "                durationSeconds = durationTimeDelta.total_seconds()\n",
    "                hours = int(durationSeconds // 3600)\n",
    "                minutes = int((durationSeconds % 3600) // 60)\n",
    "                seconds = int(durationSeconds % 60)\n",
    "                durationFormatted = f\"{hours}h {minutes}m {seconds}s\"\n",
    "            else:\n",
    "                durationFormatted = 'videoDuration unknown'\n",
    "\n",
    "            videoCategoryID = item['snippet'].get('categoryId', None)\n",
    "\n",
    "            videoCategory = ''\n",
    "            if videoCategoryID:\n",
    "                videoCategory = videoCategories[item['snippet'].get('categoryId', None)]\n",
    "            else:\n",
    "                videoCategory = 'videoCategoryID unknown'\n",
    "\n",
    "            videoStatistics = {\n",
    "                \"videoPublishDatetime\": item['snippet'].get('publishedAt', 'videoPublishDatetime unknown'),\n",
    "                \"channelID\": item['snippet'].get('channelId', 'channelID unknown'),\n",
    "                \"videoTitle\": item['snippet'].get('title', 'videoTitle unknown'),\n",
    "                \"videoDescription\": item['snippet'].get('description', 'videoDescription unknown'),\n",
    "                \"channelTitle\": item['snippet'].get('channelTitle', 'channelTitle unknown'),\n",
    "                \"videoTags\": item['snippet'].get('tags', []),\n",
    "                \"videoCategory\": videoCategory,\n",
    "                \"isLiveBroadcastContent\": item['snippet'].get('liveBroadcastContent', 'isLiveBroadcastContent unknown'),\n",
    "                \"videoDuration\": durationFormatted,\n",
    "                \"videoUploadStatus\": item.get('status', {}).get('uploadStatus', 'videoUploadStatus unknown'),\n",
    "                \"isPublicStatsViewable\": item.get('status', {}).get('publicStatsViewable', 'isPublicStatsViewable unknown'),\n",
    "                \"videoViewCount\": item.get('statistics', {}).get('viewCount', 'videoViewCount unknown'),\n",
    "                \"videoLikeCount\": item.get('statistics', {}).get('likeCount', 'videoLikeCount unknown'),\n",
    "                \"videoCommentCount\": item.get('statistics', {}).get('commentCount', 'videoCommentCount unknown'),\n",
    "                \"videoRecordingLocation\": item.get('recordingDetails', {}).get('location', 'videoRecordingLocation unknown'),\n",
    "                \"videoRecordingDatetime\": item.get('recordingDetails', {}).get('recordingDate', 'videoRecordingDatetime unknown')\n",
    "                \n",
    "            }\n",
    "            \n",
    "            allVideoStatistics.append(videoStatistics)\n",
    "            df = pd.DataFrame(allVideoStatistics)\n",
    "\n",
    "    return df\n"
   ]
  },
  {
   "cell_type": "markdown",
   "metadata": {},
   "source": [
    "Now lets test if the video statistics are being retrieved correctly."
   ]
  },
  {
   "cell_type": "code",
   "execution_count": null,
   "metadata": {},
   "outputs": [],
   "source": [
    "videoStatistics = getAllVideoStatistics(videoIDs)\n",
    "\n",
    "videoStatistics"
   ]
  },
  {
   "cell_type": "code",
   "execution_count": null,
   "metadata": {},
   "outputs": [],
   "source": [
    "len(videoStatistics)"
   ]
  },
  {
   "cell_type": "code",
   "execution_count": null,
   "metadata": {},
   "outputs": [],
   "source": []
  }
 ],
 "metadata": {
  "kernelspec": {
   "display_name": "Python 3",
   "language": "python",
   "name": "python3"
  },
  "language_info": {
   "codemirror_mode": {
    "name": "ipython",
    "version": 3
   },
   "file_extension": ".py",
   "mimetype": "text/x-python",
   "name": "python",
   "nbconvert_exporter": "python",
   "pygments_lexer": "ipython3",
   "version": "3.12.1"
  }
 },
 "nbformat": 4,
 "nbformat_minor": 2
}
