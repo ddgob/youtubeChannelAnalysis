{
 "cells": [
  {
   "cell_type": "markdown",
   "metadata": {},
   "source": [
    "Here we will collect all the data from the youtube API and save it to a csv file in the project root directory."
   ]
  },
  {
   "cell_type": "code",
   "execution_count": null,
   "metadata": {},
   "outputs": [],
   "source": [
    "# Import necessary libraries\n",
    "\n",
    "import pandas as pd\n",
    "from googleapiclient.discovery import build\n",
    "from IPython.display import JSON\n",
    "from dotenv import load_dotenv\n",
    "import os\n",
    "import isodate"
   ]
  },
  {
   "cell_type": "code",
   "execution_count": null,
   "metadata": {},
   "outputs": [],
   "source": [
    "# Load API key from .env file\n",
    "\n",
    "load_dotenv()\n",
    "apiKey = os.getenv('API_KEY')\n"
   ]
  },
  {
   "cell_type": "markdown",
   "metadata": {},
   "source": [
    "Here we will manually list all the youtube channels that we want to collect the data for. To do so we will need both the channel name and the channel ID\n",
    "\n",
    "To find a youtube channel ID, you should:\n",
    "1. go to the channel's youtube page, \n",
    "2. right click anywhere\n",
    "3. select the option view page source\n",
    "4. Press ctrl+f\n",
    "5. search for ?channel_id"
   ]
  },
  {
   "cell_type": "code",
   "execution_count": null,
   "metadata": {},
   "outputs": [],
   "source": [
    "# Dictionary of the youtube channels \n",
    "# from which we will retrieve the data.\n",
    "# The key is the channel name and the \n",
    "# value is the ID\n",
    "\n",
    "channelIDDict = {\n",
    "    \"gorgonoid\": \"UCLfCo17TCjx7qf-JMhQioLQ\",\n",
    "    \"noticiasMaromba\": \"UCmK5h2-a4CquS4nIxDN6j7g\",\n",
    "    'albert': \"UCij0YPRA_vGwKwCyn_o9MLw\"\n",
    "}"
   ]
  },
  {
   "cell_type": "markdown",
   "metadata": {},
   "source": [
    "Now we will create the necessary functions to retrieve the data from the api."
   ]
  },
  {
   "cell_type": "code",
   "execution_count": null,
   "metadata": {},
   "outputs": [],
   "source": [
    "# Transforms the channel id dictionary to\n",
    "# a string of the channel ID's separated\n",
    "# by commas. Example: \"id1, id2, id3\"\n",
    "def channelIDDictToCommaSeparatedIDString(channelIDDict):\n",
    "\n",
    "    channelIDString = \"\"\n",
    "    firstIDAdded = False\n",
    "    for channel in channelIDDict:\n",
    "        \n",
    "        if firstIDAdded is False:\n",
    "            channelIDString += channelIDDict[channel]\n",
    "        else:\n",
    "            channelIDString +=  \", \" + channelIDDict[channel]\n",
    "\n",
    "        firstIDAdded = True\n",
    "    \n",
    "    return channelIDString"
   ]
  },
  {
   "cell_type": "code",
   "execution_count": null,
   "metadata": {},
   "outputs": [],
   "source": [
    "# Builds youtube api\n",
    "def buildYoutubeAPI():\n",
    "\n",
    "    api_service_name = \"youtube\"\n",
    "    api_version = \"v3\"\n",
    "\n",
    "    # Get credentials and create an API client\n",
    "    youtube = build(\n",
    "        api_service_name, api_version, developerKey=apiKey)\n",
    "\n",
    "    return youtube"
   ]
  },
  {
   "cell_type": "code",
   "execution_count": null,
   "metadata": {},
   "outputs": [],
   "source": [
    "# Gets the statistics of all channels\n",
    "# included in the channel dictionary\n",
    "def getAllChannelStatistics(channelIDDict): \n",
    "\n",
    "    allChannelStatistics = []\n",
    "    \n",
    "    request = buildYoutubeAPI().channels().list(\n",
    "        part=\"snippet,contentDetails,statistics\",\n",
    "        id=channelIDDictToCommaSeparatedIDString(channelIDDict)\n",
    "    )\n",
    "\n",
    "    response = request.execute()\n",
    "\n",
    "    # Loops through all channels and\n",
    "    # adds data to dataframe\n",
    "    for item in response['items']:\n",
    "        channelStatistics = {\n",
    "            \"channelName\": item['snippet']['title'],\n",
    "            'subscriberCount': item['statistics']['subscriberCount'],\n",
    "            'viewCount': item['statistics']['viewCount'],\n",
    "            'videoCount': item['statistics']['videoCount'],\n",
    "            'uploadedVideosPlaylistID': item['contentDetails']['relatedPlaylists']['uploads']\n",
    "        }\n",
    "\n",
    "        allChannelStatistics.append(channelStatistics)\n",
    "        df = pd.DataFrame(allChannelStatistics)\n",
    "    \n",
    "    return df"
   ]
  },
  {
   "cell_type": "markdown",
   "metadata": {},
   "source": [
    "Now that we have created getAllChannelStatistics() we can use it to retrieve information from the youtube channels we entered in the dictionary. Below, we will run a test to see if the channel information is being retrieved correctly."
   ]
  },
  {
   "cell_type": "code",
   "execution_count": null,
   "metadata": {},
   "outputs": [],
   "source": [
    "stats = getAllChannelStatistics(channelIDDict)\n",
    "\n",
    "stats"
   ]
  },
  {
   "cell_type": "code",
   "execution_count": null,
   "metadata": {},
   "outputs": [],
   "source": [
    "playlistID = 'UULfCo17TCjx7qf-JMhQioLQ'\n",
    "\n",
    "def getUploadedVideoIDs(playlistID):\n",
    "\n",
    "    videoIDs = []\n",
    "\n",
    "    youtube = buildYoutubeAPI()\n",
    "\n",
    "    next_page_token = None\n",
    "    while True:\n",
    "        request = youtube.playlistItems().list(\n",
    "            part=\"snippet,contentDetails\",\n",
    "            playlistId=playlistID,\n",
    "            maxResults=50,\n",
    "            pageToken=next_page_token\n",
    "        )\n",
    "        response = request.execute()\n",
    "\n",
    "        for item in response['items']:\n",
    "            videoIDs.append(item['contentDetails']['videoId'])\n",
    "    \n",
    "        next_page_token = response.get('nextPageToken')\n",
    "        if not next_page_token:\n",
    "            break\n",
    "\n",
    "    return videoIDs\n",
    "\n",
    "videoIDs = getUploadedVideoIDs(playlistID)\n",
    "\n",
    "len(videoIDs)"
   ]
  },
  {
   "cell_type": "code",
   "execution_count": null,
   "metadata": {},
   "outputs": [],
   "source": [
    "def getVideoCategoriesBrazil():\n",
    "    request = buildYoutubeAPI().videoCategories().list(\n",
    "        part=\"snippet\",\n",
    "        regionCode='BR'\n",
    "    )\n",
    "    response = request.execute()\n",
    "\n",
    "    categories = {}\n",
    "    for item in response.get('items', []):\n",
    "        id = item['id']\n",
    "        title = item['snippet']['title']\n",
    "        categories[id] = title\n",
    "    \n",
    "    return categories\n",
    "\n",
    "categories = getVideoCategoriesBrazil()\n",
    "print(categories)"
   ]
  },
  {
   "cell_type": "code",
   "execution_count": null,
   "metadata": {},
   "outputs": [],
   "source": [
    "def getAllVideoStatistics(videoIDs):\n",
    "\n",
    "    allVideoStatistics = []\n",
    "\n",
    "    request = buildYoutubeAPI().videos().list(\n",
    "        part=\"snippet,contentDetails,statistics\",\n",
    "        id=videoIDs[0:20]\n",
    "    )\n",
    "    response = request.execute()\n",
    "\n",
    "    videoCategories = getVideoCategoriesBrazil()\n",
    "\n",
    "    for item in response['items']:\n",
    "        durationISO = item['contentDetails'].get('duration', None)\n",
    "        if durationISO:\n",
    "            durationTimeDelta = isodate.parse_duration(durationISO)\n",
    "            durationSeconds = durationTimeDelta.total_seconds()\n",
    "            hours = int(durationSeconds // 3600)\n",
    "            minutes = int((durationSeconds % 3600) // 60)\n",
    "            seconds = int(durationSeconds % 60)\n",
    "            durationFormatted = f\"{hours}h {minutes}m {seconds}s\"\n",
    "        else:\n",
    "            durationFormatted = 'videoDuration unknown'\n",
    "\n",
    "        videoCategoryID = item['snippet'].get('categoryId', None)\n",
    "\n",
    "        videoCategory = ''\n",
    "        if videoCategoryID:\n",
    "            videoCategory = videoCategories[item['snippet'].get('categoryId', None)]\n",
    "        else:\n",
    "            videoCategory = 'videoCategoryID unknown'\n",
    "\n",
    "        videoStatistics = {\n",
    "            \"videoPublishDatetime\": item['snippet'].get('publishedAt', 'videoPublishDatetime unknown'),\n",
    "            \"channelID\": item['snippet'].get('channelId', 'channelID unknown'),\n",
    "            \"videoTitle\": item['snippet'].get('title', 'videoTitle unknown'),\n",
    "            \"videoDescription\": item['snippet'].get('description', 'videoDescription unknown'),\n",
    "            \"channelTitle\": item['snippet'].get('channelTitle', 'channelTitle unknown'),\n",
    "            \"videoTags\": item['snippet'].get('tags', []),\n",
    "            \"videoCategory\": videoCategory,\n",
    "            \"isLiveBroadcastContent\": item['snippet'].get('liveBroadcastContent', 'isLiveBroadcastContent unknown'),\n",
    "            \"videoDuration\": durationFormatted,\n",
    "            \"videoUploadStatus\": item.get('status', {}).get('uploadStatus', 'videoUploadStatus unknown'),\n",
    "            \"isPublicStatsViewable\": item.get('status', {}).get('publicStatsViewable', 'isPublicStatsViewable unknown'),\n",
    "            \"videoViewCount\": item.get('statistics', {}).get('viewCount', 'videoViewCount unknown'),\n",
    "            \"videoLikeCount\": item.get('statistics', {}).get('likeCount', 'videoLikeCount unknown'),\n",
    "            \"videoCommentCount\": item.get('statistics', {}).get('commentCount', 'videoCommentCount unknown'),\n",
    "            \"videoRecordingLocation\": item.get('recordingDetails', {}).get('location', 'videoRecordingLocation unknown'),\n",
    "            \"videoRecordingDatetime\": item.get('recordingDetails', {}).get('recordingDate', 'videoRecordingDatetime unknown')\n",
    "            \n",
    "        }\n",
    "        \n",
    "        allVideoStatistics.append(videoStatistics)\n",
    "        df = pd.DataFrame(allVideoStatistics)\n",
    "\n",
    "    return df\n",
    "\n",
    "\n",
    "videoStats = getAllVideoStatistics(videoIDs)\n",
    "\n",
    "videoStats\n"
   ]
  },
  {
   "cell_type": "code",
   "execution_count": null,
   "metadata": {},
   "outputs": [],
   "source": []
  }
 ],
 "metadata": {
  "kernelspec": {
   "display_name": "Python 3",
   "language": "python",
   "name": "python3"
  },
  "language_info": {
   "codemirror_mode": {
    "name": "ipython",
    "version": 3
   },
   "file_extension": ".py",
   "mimetype": "text/x-python",
   "name": "python",
   "nbconvert_exporter": "python",
   "pygments_lexer": "ipython3",
   "version": "3.12.1"
  }
 },
 "nbformat": 4,
 "nbformat_minor": 2
}
