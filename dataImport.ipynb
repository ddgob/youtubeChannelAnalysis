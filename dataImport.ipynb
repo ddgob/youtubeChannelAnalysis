{
 "cells": [
  {
   "cell_type": "markdown",
   "metadata": {},
   "source": [
    "Here we will collect all the data from the youtube API and save it to a csv file in the project root directory."
   ]
  },
  {
   "cell_type": "code",
   "execution_count": 120,
   "metadata": {},
   "outputs": [],
   "source": [
    "# Import necessary libraries\n",
    "\n",
    "import pandas as pd\n",
    "from googleapiclient.discovery import build\n",
    "from IPython.display import JSON\n",
    "from dotenv import load_dotenv\n",
    "import os"
   ]
  },
  {
   "cell_type": "code",
   "execution_count": 121,
   "metadata": {},
   "outputs": [],
   "source": [
    "# Load API key from .env file\n",
    "\n",
    "load_dotenv()\n",
    "apiKey = os.getenv('API_KEY')\n"
   ]
  },
  {
   "cell_type": "markdown",
   "metadata": {},
   "source": [
    "Here we will manually list all the youtube channels that we want to collect the data for. To do so we will need both the channel name and the channel ID\n",
    "\n",
    "To find a youtube channel ID, you should:\n",
    "1. go to the channel's youtube page, \n",
    "2. right click anywhere\n",
    "3. select the option view page source\n",
    "4. Press ctrl+f\n",
    "5. search for ?channel_id"
   ]
  },
  {
   "cell_type": "code",
   "execution_count": 122,
   "metadata": {},
   "outputs": [],
   "source": [
    "# Dictionary of the youtube channels \n",
    "# from which we will retrieve the data.\n",
    "# The key is the channel name and the \n",
    "# value is the ID\n",
    "\n",
    "channelIDDict = {\n",
    "    \"gorgonoid\": \"UCLfCo17TCjx7qf-JMhQioLQ\",\n",
    "    \"noticiasMaromba\": \"UCmK5h2-a4CquS4nIxDN6j7g\",\n",
    "    'albert': \"UCij0YPRA_vGwKwCyn_o9MLw\"\n",
    "}"
   ]
  },
  {
   "cell_type": "markdown",
   "metadata": {},
   "source": [
    "Now we will create the necessary functions to retrieve the data from the api."
   ]
  },
  {
   "cell_type": "code",
   "execution_count": 123,
   "metadata": {},
   "outputs": [],
   "source": [
    "# Transforms the channel id dictionary to\n",
    "# a string of the channel ID's separated\n",
    "# by commas. Example: \"id1, id2, id3\"\n",
    "def channelIDDictToCommaSeparatedIDString(channelIDDict):\n",
    "\n",
    "    channelIDString = \"\"\n",
    "    firstIDAdded = False\n",
    "    for channel in channelIDDict:\n",
    "        \n",
    "        if firstIDAdded is False:\n",
    "            channelIDString += channelIDDict[channel]\n",
    "        else:\n",
    "            channelIDString +=  \", \" + channelIDDict[channel]\n",
    "\n",
    "        firstIDAdded = True\n",
    "    \n",
    "    return channelIDString"
   ]
  },
  {
   "cell_type": "code",
   "execution_count": 124,
   "metadata": {},
   "outputs": [],
   "source": [
    "# Builds youtube api\n",
    "def buildYoutubeAPI():\n",
    "\n",
    "    api_service_name = \"youtube\"\n",
    "    api_version = \"v3\"\n",
    "\n",
    "    # Get credentials and create an API client\n",
    "    youtube = build(\n",
    "        api_service_name, api_version, developerKey=apiKey)\n",
    "\n",
    "    return youtube"
   ]
  },
  {
   "cell_type": "code",
   "execution_count": 125,
   "metadata": {},
   "outputs": [],
   "source": [
    "# Gets the statistics of all channels\n",
    "# included in the channel id string\n",
    "def getAllChannelStatistics(channelIDString): \n",
    "\n",
    "    allChannelStatistics = []\n",
    "    \n",
    "    request = buildYoutubeAPI().channels().list(\n",
    "        part=\"snippet,contentDetails,statistics\",\n",
    "        id=channelIDString\n",
    "    )\n",
    "\n",
    "    response = request.execute()\n",
    "\n",
    "    # Loops through all channels and\n",
    "    # adds data to dataframe\n",
    "    for item in response['items']:\n",
    "        channelStatistics = {\n",
    "            \"channelName\": item['snippet']['title'],\n",
    "            'subscriberCount': item['statistics']['subscriberCount'],\n",
    "            'viewCount': item['statistics']['viewCount'],\n",
    "            'videoCount': item['statistics']['videoCount'],\n",
    "            'uploadedVideosPlaylistID': item['contentDetails']['relatedPlaylists']['uploads']\n",
    "        }\n",
    "\n",
    "        allChannelStatistics.append(channelStatistics)\n",
    "        df = pd.DataFrame(allChannelStatistics)\n",
    "    \n",
    "    return df"
   ]
  },
  {
   "cell_type": "markdown",
   "metadata": {},
   "source": [
    "Now that we have created getAllChannelStatistics() we can use it to retrieve information from the youtube channels we entered in the dictionary before. Below, we run a test to see if the channel information is being retrieved correctly."
   ]
  },
  {
   "cell_type": "code",
   "execution_count": 126,
   "metadata": {},
   "outputs": [
    {
     "data": {
      "text/html": [
       "<div>\n",
       "<style scoped>\n",
       "    .dataframe tbody tr th:only-of-type {\n",
       "        vertical-align: middle;\n",
       "    }\n",
       "\n",
       "    .dataframe tbody tr th {\n",
       "        vertical-align: top;\n",
       "    }\n",
       "\n",
       "    .dataframe thead th {\n",
       "        text-align: right;\n",
       "    }\n",
       "</style>\n",
       "<table border=\"1\" class=\"dataframe\">\n",
       "  <thead>\n",
       "    <tr style=\"text-align: right;\">\n",
       "      <th></th>\n",
       "      <th>channelName</th>\n",
       "      <th>subscriberCount</th>\n",
       "      <th>viewCount</th>\n",
       "      <th>videoCount</th>\n",
       "      <th>uploadedVideosPlaylistID</th>\n",
       "    </tr>\n",
       "  </thead>\n",
       "  <tbody>\n",
       "    <tr>\n",
       "      <th>0</th>\n",
       "      <td>Albert Einstein</td>\n",
       "      <td>6860</td>\n",
       "      <td>947591</td>\n",
       "      <td>4</td>\n",
       "      <td>UUij0YPRA_vGwKwCyn_o9MLw</td>\n",
       "    </tr>\n",
       "    <tr>\n",
       "      <th>1</th>\n",
       "      <td>GORGONOID</td>\n",
       "      <td>666000</td>\n",
       "      <td>108342455</td>\n",
       "      <td>1576</td>\n",
       "      <td>UULfCo17TCjx7qf-JMhQioLQ</td>\n",
       "    </tr>\n",
       "    <tr>\n",
       "      <th>2</th>\n",
       "      <td>Notícias Maromba</td>\n",
       "      <td>717000</td>\n",
       "      <td>22017080</td>\n",
       "      <td>77</td>\n",
       "      <td>UUmK5h2-a4CquS4nIxDN6j7g</td>\n",
       "    </tr>\n",
       "  </tbody>\n",
       "</table>\n",
       "</div>"
      ],
      "text/plain": [
       "        channelName subscriberCount  viewCount videoCount  \\\n",
       "0   Albert Einstein            6860     947591          4   \n",
       "1         GORGONOID          666000  108342455       1576   \n",
       "2  Notícias Maromba          717000   22017080         77   \n",
       "\n",
       "   uploadedVideosPlaylistID  \n",
       "0  UUij0YPRA_vGwKwCyn_o9MLw  \n",
       "1  UULfCo17TCjx7qf-JMhQioLQ  \n",
       "2  UUmK5h2-a4CquS4nIxDN6j7g  "
      ]
     },
     "execution_count": 126,
     "metadata": {},
     "output_type": "execute_result"
    }
   ],
   "source": [
    "commaSeparatedChannelIDs = channelIDDictToCommaSeparatedIDString(channelIDDict)\n",
    "\n",
    "stats = getAllChannelStatistics(commaSeparatedChannelIDs)\n",
    "\n",
    "stats"
   ]
  },
  {
   "cell_type": "code",
   "execution_count": 131,
   "metadata": {},
   "outputs": [
    {
     "data": {
      "text/plain": [
       "1566"
      ]
     },
     "execution_count": 131,
     "metadata": {},
     "output_type": "execute_result"
    }
   ],
   "source": [
    "playlistID = 'UULfCo17TCjx7qf-JMhQioLQ'\n",
    "\n",
    "def getUploadedVideoIDs(playlistID):\n",
    "\n",
    "    videoIDs = []\n",
    "\n",
    "    request = youtube.playlistItems().list(\n",
    "        part=\"snippet,contentDetails\",\n",
    "        playlistId=playlistID,\n",
    "        maxResults=50\n",
    "    )\n",
    "    response = request.execute()\n",
    "\n",
    "    for item in response['items']:\n",
    "        videoIDs.append(item['contentDetails']['videoId'])\n",
    "    \n",
    "    next_page_token = response.get('nextPageToken')\n",
    "    while next_page_token is not None:\n",
    "        request = youtube.playlistItems().list(\n",
    "            part=\"contentDetails\",\n",
    "            playlistId=playlistID,\n",
    "            maxResults=50,\n",
    "            pageToken=next_page_token\n",
    "        )\n",
    "        response = request.execute()\n",
    "\n",
    "        for item in response['items']:\n",
    "            videoIDs.append(item['contentDetails']['videoId'])\n",
    "\n",
    "        next_page_token = response.get('nextPageToken')\n",
    "\n",
    "\n",
    "    return videoIDs\n",
    "\n",
    "videoIDs = getUploadedVideoIDs(playlistID)\n",
    "\n",
    "len(videoIDs)"
   ]
  },
  {
   "cell_type": "code",
   "execution_count": null,
   "metadata": {},
   "outputs": [],
   "source": []
  },
  {
   "cell_type": "code",
   "execution_count": null,
   "metadata": {},
   "outputs": [],
   "source": []
  }
 ],
 "metadata": {
  "kernelspec": {
   "display_name": "Python 3",
   "language": "python",
   "name": "python3"
  },
  "language_info": {
   "codemirror_mode": {
    "name": "ipython",
    "version": 3
   },
   "file_extension": ".py",
   "mimetype": "text/x-python",
   "name": "python",
   "nbconvert_exporter": "python",
   "pygments_lexer": "ipython3",
   "version": "3.12.1"
  }
 },
 "nbformat": 4,
 "nbformat_minor": 2
}
