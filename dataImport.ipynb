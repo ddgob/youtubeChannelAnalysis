{
 "cells": [
  {
   "cell_type": "markdown",
   "metadata": {},
   "source": [
    "# Collecting Project Data Via Youtube Data API"
   ]
  },
  {
   "cell_type": "markdown",
   "metadata": {},
   "source": [
    "Here we will collect all the data from the youtube API and save it to a file in the project data directory."
   ]
  },
  {
   "cell_type": "markdown",
   "metadata": {},
   "source": [
    "## Imports and API info"
   ]
  },
  {
   "cell_type": "markdown",
   "metadata": {},
   "source": [
    "Here we will import necessary libraries, get API key from environment variables and set up the youtube data API"
   ]
  },
  {
   "cell_type": "code",
   "execution_count": null,
   "metadata": {},
   "outputs": [],
   "source": [
    "# Import necessary libraries\n",
    "\n",
    "import pandas as pd\n",
    "from googleapiclient.discovery import build\n",
    "from IPython.display import JSON\n",
    "from dotenv import load_dotenv\n",
    "import os\n",
    "import isodate"
   ]
  },
  {
   "cell_type": "code",
   "execution_count": null,
   "metadata": {},
   "outputs": [],
   "source": [
    "# Load API key from .env file\n",
    "\n",
    "load_dotenv()\n",
    "apiKey = os.getenv('API_KEY')\n"
   ]
  },
  {
   "cell_type": "code",
   "execution_count": null,
   "metadata": {},
   "outputs": [],
   "source": [
    "# Builds youtube api\n",
    "def buildYoutubeAPI():\n",
    "\n",
    "    api_service_name = \"youtube\"\n",
    "    api_version = \"v3\"\n",
    "\n",
    "    # Get credentials and create an API client\n",
    "    youtube = build(\n",
    "        api_service_name, api_version, developerKey=apiKey)\n",
    "\n",
    "    return youtube"
   ]
  },
  {
   "cell_type": "markdown",
   "metadata": {},
   "source": [
    "## Selection of the Youtube Channels to be Analyzed"
   ]
  },
  {
   "cell_type": "markdown",
   "metadata": {},
   "source": [
    "Here we will manually list all the youtube channels that we want to collect the data for. To do so we will need both the channel name and the channel ID\n",
    "\n",
    "To find a youtube channel ID, you should:\n",
    "1. go to the channel's youtube page, \n",
    "2. right click anywhere\n",
    "3. select the option view page source\n",
    "4. Press ctrl+f\n",
    "5. search for ?channel_id\n",
    "\n",
    "OBS.: the channel name does not have to be the exact channel name. The important thing is to get the correct channel ID and we will be able to get the official channel name via the youtube API."
   ]
  },
  {
   "cell_type": "code",
   "execution_count": null,
   "metadata": {},
   "outputs": [],
   "source": [
    "# Dictionary of the youtube channels \n",
    "# from which we will retrieve the data.\n",
    "# The key is the channel name and the \n",
    "# value is the ID\n",
    "\n",
    "channelIDDict = {\n",
    "    \"gorgonoid\": \"UCLfCo17TCjx7qf-JMhQioLQ\",\n",
    "    \"noticiasMaromba\": \"UCmK5h2-a4CquS4nIxDN6j7g\",\n",
    "    #'albert': \"UCij0YPRA_vGwKwCyn_o9MLw\"\n",
    "}"
   ]
  },
  {
   "cell_type": "markdown",
   "metadata": {},
   "source": [
    "## Creating Functions to Retrieve Data"
   ]
  },
  {
   "cell_type": "markdown",
   "metadata": {},
   "source": [
    "Now we will create the necessary functions to retrieve the data we want from the youtube data API."
   ]
  },
  {
   "cell_type": "markdown",
   "metadata": {},
   "source": [
    "### Retrieving Channel Statistics"
   ]
  },
  {
   "cell_type": "markdown",
   "metadata": {},
   "source": [
    "Here we will retrieve data related to the channel as a whole (such as subscriber count)."
   ]
  },
  {
   "cell_type": "markdown",
   "metadata": {},
   "source": [
    "First we will create a function that transforms the dictionary that maps the channel name to the channel ID into a string that contains all the channel IDs separated by commas."
   ]
  },
  {
   "cell_type": "code",
   "execution_count": null,
   "metadata": {},
   "outputs": [],
   "source": [
    "# Transforms the channel id dictionary to\n",
    "# a string of the channel ID's separated\n",
    "# by commas. Example: \"id1, id2, id3\"\n",
    "def channelIDDictToCommaSeparatedIDString(channelIDDict):\n",
    "\n",
    "    channelIDString = \"\"\n",
    "    firstIDAdded = False\n",
    "    for channel in channelIDDict:\n",
    "        \n",
    "        if firstIDAdded is False:\n",
    "            channelIDString += channelIDDict[channel]\n",
    "        else:\n",
    "            channelIDString +=  \", \" + channelIDDict[channel]\n",
    "\n",
    "        firstIDAdded = True\n",
    "    \n",
    "    return channelIDString"
   ]
  },
  {
   "cell_type": "markdown",
   "metadata": {},
   "source": [
    "Now we will create a function that gets the statistics we want from each of the youtube channels."
   ]
  },
  {
   "cell_type": "code",
   "execution_count": null,
   "metadata": {},
   "outputs": [],
   "source": [
    "# Gets the statistics of all channels\n",
    "# included in the channel dictionary\n",
    "def getAllChannelStatistics(channelIDDict): \n",
    "\n",
    "    allChannelStatistics = []\n",
    "    \n",
    "    request = buildYoutubeAPI().channels().list(\n",
    "        part=\"snippet,contentDetails,statistics\",\n",
    "        id=channelIDDictToCommaSeparatedIDString(channelIDDict)\n",
    "    )\n",
    "\n",
    "    response = request.execute()\n",
    "\n",
    "    # Loops through all channels and\n",
    "    # adds data to dataframe\n",
    "    for item in response['items']:\n",
    "        channelStatistics = {\n",
    "            \"channelName\": item['snippet']['title'],\n",
    "            'subscriberCount': item['statistics']['subscriberCount'],\n",
    "            'viewCount': item['statistics']['viewCount'],\n",
    "            'videoCount': item['statistics']['videoCount'],\n",
    "            'uploadedVideosPlaylistID': item['contentDetails']['relatedPlaylists']['uploads']\n",
    "        }\n",
    "\n",
    "        allChannelStatistics.append(channelStatistics)\n",
    "        df = pd.DataFrame(allChannelStatistics)\n",
    "    \n",
    "    return df"
   ]
  },
  {
   "cell_type": "markdown",
   "metadata": {},
   "source": [
    "Now we can use this function to retrieve information from the youtube channels we entered in the dictionary. Below, we will run a test to see if the channel information is being retrieved correctly."
   ]
  },
  {
   "cell_type": "code",
   "execution_count": null,
   "metadata": {},
   "outputs": [],
   "source": [
    "channelStatistics = getAllChannelStatistics(channelIDDict)\n",
    "\n",
    "channelStatistics"
   ]
  },
  {
   "cell_type": "markdown",
   "metadata": {},
   "source": [
    "### Retrieving Video Statistics"
   ]
  },
  {
   "cell_type": "markdown",
   "metadata": {},
   "source": [
    "Here we will retrieve the data related to individual videos uploaded by channels (such as view count)."
   ]
  },
  {
   "cell_type": "markdown",
   "metadata": {},
   "source": [
    "#### Retrieving Video IDs for All Videos of All Channels"
   ]
  },
  {
   "cell_type": "markdown",
   "metadata": {},
   "source": [
    "All of the videos that were uploaded by a youtube channel are stored in a playlist that is identified by the playlist ID that we retrieved in the last dataframe we generated.\n",
    "\n",
    "Now we will create a function that enables us to get the IDs of the videos that were uploaded by a specific channel for a given playlist ID."
   ]
  },
  {
   "cell_type": "code",
   "execution_count": null,
   "metadata": {},
   "outputs": [],
   "source": [
    "# Gets the IDs of the videos uploaded by\n",
    "# a specific channel. OBS.: the playlist\n",
    "# ID is the ID of the playlist that contains \n",
    "# all the videos of a channel.\n",
    "# Returns a list that contains all of the\n",
    "# channels video IDs\n",
    "def getUploadedVideoIDs(playlistID):\n",
    "\n",
    "    videoIDs = []\n",
    "\n",
    "    youtube = buildYoutubeAPI()\n",
    "\n",
    "    next_page_token = None\n",
    "    while True:\n",
    "        request = youtube.playlistItems().list(\n",
    "            part=\"snippet,contentDetails\",\n",
    "            playlistId=playlistID,\n",
    "            maxResults=50,\n",
    "            pageToken=next_page_token\n",
    "        )\n",
    "        response = request.execute()\n",
    "\n",
    "        for item in response['items']:\n",
    "            videoIDs.append(item['contentDetails']['videoId'])\n",
    "    \n",
    "        next_page_token = response.get('nextPageToken')\n",
    "        if not next_page_token:\n",
    "            break\n",
    "\n",
    "    return videoIDs"
   ]
  },
  {
   "cell_type": "markdown",
   "metadata": {},
   "source": [
    "Now we can use this function to retrieve the video IDs of the videos the channel has uploaded. Below, we will run a test to see if the video IDs are being retrieved correctly."
   ]
  },
  {
   "cell_type": "code",
   "execution_count": null,
   "metadata": {},
   "outputs": [],
   "source": [
    "videoIDs = getUploadedVideoIDs('UULfCo17TCjx7qf-JMhQioLQ')\n",
    "\n",
    "print(videoIDs)\n",
    "\n",
    "len(videoIDs)"
   ]
  },
  {
   "cell_type": "markdown",
   "metadata": {},
   "source": [
    "Now we will create a function that iterates through all of the playlist IDs in the channel statistics dataframe, gets all of the video ID's contained in each playlist and appends them to a list."
   ]
  },
  {
   "cell_type": "code",
   "execution_count": null,
   "metadata": {},
   "outputs": [],
   "source": [
    "# Retrieves all the video IDs of playlists \n",
    "# contained in whose IDs are contained in \n",
    "# a column of a dataframe\n",
    "def getAllVideoIDs(channelStatisticsDataframe):\n",
    "    allVideoIDs = []\n",
    "\n",
    "    for playlistID in channelStatisticsDataframe['uploadedVideosPlaylistID']:\n",
    "        allVideoIDs.extend(getUploadedVideoIDs(playlistID))\n",
    "\n",
    "    return allVideoIDs"
   ]
  },
  {
   "cell_type": "markdown",
   "metadata": {},
   "source": [
    "Now let's test if all the video IDs are being retrieved correctly"
   ]
  },
  {
   "cell_type": "code",
   "execution_count": null,
   "metadata": {},
   "outputs": [],
   "source": [
    "videoIDs = getAllVideoIDs(channelStatistics)\n",
    "\n",
    "print(videoIDs)\n",
    "\n",
    "len(videoIDs)"
   ]
  },
  {
   "cell_type": "markdown",
   "metadata": {},
   "source": [
    "#### Retrieving Youtube Video Categories"
   ]
  },
  {
   "cell_type": "markdown",
   "metadata": {},
   "source": [
    "Now that we are able to get all video IDs from all the uploaded videos of all the channels we initially set in our dictionary, we can get the individual statistics for each video. \n",
    "\n",
    "But first, let's find out what are the names of the possible category IDs a video could have so that we can include the video category in the video statistics.\n",
    "\n",
    "OBS.: the categories are set by youtube."
   ]
  },
  {
   "cell_type": "code",
   "execution_count": null,
   "metadata": {},
   "outputs": [],
   "source": [
    "# Gets all the youtube defined video \n",
    "# categories and adds them to a  \n",
    "# dictionary that maps the id of the  \n",
    "# category to the category title\n",
    "def getVideoCategoriesBrazil():\n",
    "    request = buildYoutubeAPI().videoCategories().list(\n",
    "        part=\"snippet\",\n",
    "        regionCode='BR'\n",
    "    )\n",
    "    response = request.execute()\n",
    "\n",
    "    categories = {}\n",
    "    for item in response.get('items', []):\n",
    "        id = item['id']\n",
    "        title = item['snippet']['title']\n",
    "        categories[id] = title\n",
    "    \n",
    "    return categories"
   ]
  },
  {
   "cell_type": "markdown",
   "metadata": {},
   "source": [
    "Now let's see if we are retrieving the categories correctly."
   ]
  },
  {
   "cell_type": "code",
   "execution_count": null,
   "metadata": {},
   "outputs": [],
   "source": [
    "categories = getVideoCategoriesBrazil()\n",
    "\n",
    "print(categories)"
   ]
  },
  {
   "cell_type": "markdown",
   "metadata": {},
   "source": [
    "#### Retrieving The Video Statistics"
   ]
  },
  {
   "cell_type": "markdown",
   "metadata": {},
   "source": [
    "Now we will create a funciton that retrieves the video statistics of all the videos contained in the list of video IDs we collected from all our selected channels."
   ]
  },
  {
   "cell_type": "code",
   "execution_count": null,
   "metadata": {},
   "outputs": [],
   "source": [
    "# Gets all video statistics for the \n",
    "# videos that were passed as argument \n",
    "# in video ID parameter\n",
    "def getAllVideoStatistics(videoIDs):\n",
    "\n",
    "    allVideoStatistics = []\n",
    "\n",
    "    currentVideoRequestList = []\n",
    "\n",
    "    videoCategories = getVideoCategoriesBrazil()\n",
    "\n",
    "    # Iterate through videoIDs 50 at a time\n",
    "    for i in range(0, len(videoIDs), 50):\n",
    "        # Get next slice of 50 video IDs\n",
    "        currentVideoRequestList = videoIDs[i:i+50]\n",
    "\n",
    "        request = buildYoutubeAPI().videos().list(\n",
    "            part=\"snippet,contentDetails,statistics\",\n",
    "            id=currentVideoRequestList,\n",
    "            maxResults=50\n",
    "        )\n",
    "        response = request.execute()\n",
    "\n",
    "        for item in response['items']:\n",
    "            durationISO = item['contentDetails'].get('duration', None)\n",
    "            if durationISO:\n",
    "                durationTimeDelta = isodate.parse_duration(durationISO)\n",
    "                durationSeconds = durationTimeDelta.total_seconds()\n",
    "                hours = int(durationSeconds // 3600)\n",
    "                minutes = int((durationSeconds % 3600) // 60)\n",
    "                seconds = int(durationSeconds % 60)\n",
    "            else:\n",
    "                hours = 'videoDurationHours unknown'\n",
    "                minutes = 'videoDurationMinutes unknown'\n",
    "                seconds = 'videoDurationSeconds unknown'\n",
    "\n",
    "            videoCategoryID = item['snippet'].get('categoryId', None)\n",
    "\n",
    "            videoCategory = ''\n",
    "            if videoCategoryID:\n",
    "                videoCategory = videoCategories[item['snippet'].get('categoryId', None)]\n",
    "            else:\n",
    "                videoCategory = 'videoCategoryID unknown'\n",
    "\n",
    "            videoStatistics = {\n",
    "                \"videoPublishDatetime\": item['snippet'].get('publishedAt', 'videoPublishDatetime unknown'),\n",
    "                \"channelID\": item['snippet'].get('channelId', 'channelID unknown'),\n",
    "                \"videoTitle\": item['snippet'].get('title', 'videoTitle unknown'),\n",
    "                \"videoDescription\": item['snippet'].get('description', 'videoDescription unknown'),\n",
    "                \"channelTitle\": item['snippet'].get('channelTitle', 'channelTitle unknown'),\n",
    "                \"videoTags\": item['snippet'].get('tags', []),\n",
    "                \"videoCategory\": videoCategory,\n",
    "                \"isLiveBroadcastContent\": item['snippet'].get('liveBroadcastContent', 'isLiveBroadcastContent unknown'),\n",
    "                \"videoDurationHours\": hours,\n",
    "                \"videoDurationMinutes\": minutes,\n",
    "                \"videoDurationSeconds\": seconds,\n",
    "                \"videoUploadStatus\": item.get('status', {}).get('uploadStatus', 'videoUploadStatus unknown'),\n",
    "                \"isPublicStatsViewable\": item.get('status', {}).get('publicStatsViewable', 'isPublicStatsViewable unknown'),\n",
    "                \"videoViewCount\": item.get('statistics', {}).get('viewCount', 'videoViewCount unknown'),\n",
    "                \"videoLikeCount\": item.get('statistics', {}).get('likeCount', 'videoLikeCount unknown'),\n",
    "                \"videoCommentCount\": item.get('statistics', {}).get('commentCount', 'videoCommentCount unknown'),\n",
    "                \"videoRecordingLocation\": item.get('recordingDetails', {}).get('location', 'videoRecordingLocation unknown'),\n",
    "                \"videoRecordingDatetime\": item.get('recordingDetails', {}).get('recordingDate', 'videoRecordingDatetime unknown')\n",
    "                \n",
    "            }\n",
    "            \n",
    "            allVideoStatistics.append(videoStatistics)\n",
    "            df = pd.DataFrame(allVideoStatistics)\n",
    "\n",
    "    return df\n"
   ]
  },
  {
   "cell_type": "markdown",
   "metadata": {},
   "source": [
    "Now lets test if the video statistics are being retrieved correctly."
   ]
  },
  {
   "cell_type": "code",
   "execution_count": null,
   "metadata": {},
   "outputs": [],
   "source": [
    "videoStatistics = getAllVideoStatistics(videoIDs)\n",
    "\n",
    "videoStatistics"
   ]
  },
  {
   "cell_type": "markdown",
   "metadata": {},
   "source": [
    "#### Cleaning Data"
   ]
  },
  {
   "cell_type": "markdown",
   "metadata": {},
   "source": [
    "Here we will clean data if necessary."
   ]
  },
  {
   "cell_type": "markdown",
   "metadata": {},
   "source": [
    "##### Cleaning Channel Statistics"
   ]
  },
  {
   "cell_type": "code",
   "execution_count": null,
   "metadata": {},
   "outputs": [],
   "source": [
    "channelStatistics.info()"
   ]
  },
  {
   "cell_type": "markdown",
   "metadata": {},
   "source": [
    "As shown above, the columns that are tipically supposed to have an int type (i.e. the columns that have a name ending in count) but are listed as objects. Let's convert the values of these columns to int to be more easily analyzed."
   ]
  },
  {
   "cell_type": "code",
   "execution_count": null,
   "metadata": {},
   "outputs": [],
   "source": [
    "columnsToConvert = ['subscriberCount', 'viewCount', 'videoCount']\n",
    "\n",
    "cleanedChannelStatistics = channelStatistics\n",
    "\n",
    "for column in columnsToConvert:\n",
    "    cleanedChannelStatistics[column] = pd.to_numeric(channelStatistics[column], errors='coerce')\n",
    "\n",
    "cleanedChannelStatistics.info()\n"
   ]
  },
  {
   "cell_type": "markdown",
   "metadata": {},
   "source": [
    "##### Cleaning Video Statistics"
   ]
  },
  {
   "cell_type": "code",
   "execution_count": null,
   "metadata": {},
   "outputs": [],
   "source": [
    "videoStatistics.info()"
   ]
  },
  {
   "cell_type": "markdown",
   "metadata": {},
   "source": [
    "As shown above, there are columns that are tipically supposed to have an int type (such as the columns that have a name ending in count) but are listed as objects. Let's convert the values of these columns to int to be more easily analyzed."
   ]
  },
  {
   "cell_type": "code",
   "execution_count": null,
   "metadata": {},
   "outputs": [],
   "source": [
    "columnsToConvert = ['videoViewCount', 'videoLikeCount', 'videoCommentCount']\n",
    "\n",
    "cleanedVideoStatistics = videoStatistics\n",
    "\n",
    "for column in columnsToConvert:\n",
    "    cleanedVideoStatistics[column] = pd.to_numeric(videoStatistics[column], errors='coerce').astype('Int64')\n",
    "\n",
    "cleanedVideoStatistics.info()\n"
   ]
  },
  {
   "cell_type": "markdown",
   "metadata": {},
   "source": [
    "As seen above, there are some videos that have null values in the video comment and like count. Let's analyze these videos below."
   ]
  },
  {
   "cell_type": "code",
   "execution_count": null,
   "metadata": {},
   "outputs": [],
   "source": [
    "nullLikeCount = cleanedVideoStatistics[cleanedVideoStatistics['videoLikeCount'].isnull()]\n",
    "\n",
    "nullLikeCount"
   ]
  },
  {
   "cell_type": "markdown",
   "metadata": {},
   "source": [
    "If the video like count value of a video is NaN, that means that the likes are not displayed publicly. You can verify this yourself searching for a video that has a NaN like count and another that does't. The video that has a NaN like count in the dataframe will not display the like count on youtube (but will still let you like the video). \n",
    "\n",
    "The same logic applies to comment count of videos that have a dataframe value of NaN in the video comment count.\n",
    "\n",
    "Since we are still able to run operations such as sum() on a column that contains numpy NaN's, we will not be dropping these rows (videos) as they will not hinder our data analysis."
   ]
  },
  {
   "cell_type": "markdown",
   "metadata": {},
   "source": [
    "## Saving Statistics Dataframes to Project Data Directory"
   ]
  },
  {
   "cell_type": "markdown",
   "metadata": {},
   "source": [
    "Now let's save the dataframes that contain the video and channel statistics to the data folder of the project."
   ]
  },
  {
   "cell_type": "code",
   "execution_count": null,
   "metadata": {},
   "outputs": [],
   "source": [
    "cleanedVideoStatistics.to_pickle('data/videoStatistics.pkl')\n",
    "\n",
    "cleanedChannelStatistics.to_pickle('data/channelStatistics.pkl')"
   ]
  },
  {
   "cell_type": "markdown",
   "metadata": {},
   "source": [
    "OBS.: we are saving the data as .pkl because it maintains data types such as numpy int64 and numpy float64 while csv files convert it to a simpler data type (not a numpy data type)"
   ]
  },
  {
   "cell_type": "markdown",
   "metadata": {},
   "source": [
    "Here is a snippet of code to save the files as csv in case it is needed:"
   ]
  },
  {
   "cell_type": "code",
   "execution_count": null,
   "metadata": {},
   "outputs": [],
   "source": [
    "cleanedVideoStatistics.to_csv('data/videoStatistics.csv')\n",
    "\n",
    "cleanedChannelStatistics.to_csv('data/channelStatistics.csv')"
   ]
  }
 ],
 "metadata": {
  "kernelspec": {
   "display_name": "Python 3",
   "language": "python",
   "name": "python3"
  },
  "language_info": {
   "codemirror_mode": {
    "name": "ipython",
    "version": 3
   },
   "file_extension": ".py",
   "mimetype": "text/x-python",
   "name": "python",
   "nbconvert_exporter": "python",
   "pygments_lexer": "ipython3",
   "version": "3.12.1"
  }
 },
 "nbformat": 4,
 "nbformat_minor": 2
}
