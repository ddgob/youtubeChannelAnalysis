{
 "cells": [
  {
   "cell_type": "markdown",
   "metadata": {},
   "source": [
    "# Youtube Channel Statistic Analysis"
   ]
  },
  {
   "cell_type": "markdown",
   "metadata": {},
   "source": [
    "Here we will analyze all the data that we collected from the youtube data API."
   ]
  },
  {
   "cell_type": "markdown",
   "metadata": {},
   "source": [
    "## Necessary Imports"
   ]
  },
  {
   "cell_type": "markdown",
   "metadata": {},
   "source": [
    "Here we will import necessary libraries."
   ]
  },
  {
   "cell_type": "code",
   "execution_count": null,
   "metadata": {},
   "outputs": [],
   "source": [
    "import pandas as pd\n",
    "import matplotlib.pyplot as plt\n",
    "import matplotlib.dates as mdates\n",
    "import numpy as np"
   ]
  },
  {
   "cell_type": "markdown",
   "metadata": {},
   "source": [
    "## Import Data from Data Files"
   ]
  },
  {
   "cell_type": "markdown",
   "metadata": {},
   "source": [
    "Here we will import the data from the csv files in the data directory of our project and save it to dataframes."
   ]
  },
  {
   "cell_type": "code",
   "execution_count": null,
   "metadata": {},
   "outputs": [],
   "source": [
    "channelStatistics = pd.read_pickle('../data/channelStatistics.pkl')\n",
    "\n",
    "videoStatistics = pd.read_pickle('../data/videoStatistics.pkl')"
   ]
  },
  {
   "cell_type": "code",
   "execution_count": null,
   "metadata": {},
   "outputs": [],
   "source": [
    "channelStatistics.info()"
   ]
  },
  {
   "cell_type": "code",
   "execution_count": null,
   "metadata": {},
   "outputs": [],
   "source": [
    "videoStatistics.info()"
   ]
  },
  {
   "cell_type": "markdown",
   "metadata": {},
   "source": [
    "As mentioned when cleaning the data, since we are still able to run operations such as sum() on a column that contains numpy NaN's, we will not be dropping these rows (videos) as they will not hinder our data analysis."
   ]
  },
  {
   "cell_type": "markdown",
   "metadata": {},
   "source": [
    "# Average Views Per Video"
   ]
  },
  {
   "cell_type": "markdown",
   "metadata": {},
   "source": [
    "Here we will analyze the average number of views per videos which will give us a broad idea of how the channels video's perform."
   ]
  },
  {
   "cell_type": "code",
   "execution_count": null,
   "metadata": {},
   "outputs": [],
   "source": [
    "channelStatistics['averageViewsPerVideo'] = channelStatistics['viewCount'] / channelStatistics['videoCount']\n",
    "\n",
    "averageViewsPerVideoDf = channelStatistics[['channelName', 'viewCount', 'videoCount', 'averageViewsPerVideo']].sort_values(by='averageViewsPerVideo', ascending=False)\n",
    "\n",
    "averageViewsPerVideoDf\n"
   ]
  },
  {
   "cell_type": "markdown",
   "metadata": {},
   "source": [
    "Now we will plot this average on a graph where the x axis will be the video count and the y axis will be the view count."
   ]
  },
  {
   "cell_type": "code",
   "execution_count": null,
   "metadata": {},
   "outputs": [],
   "source": [
    "plt.figure(figsize=(10,6))\n",
    "plt.scatter(averageViewsPerVideoDf['videoCount'], averageViewsPerVideoDf['viewCount'], alpha=0.7)\n",
    "plt.xlim(left=0)\n",
    "plt.ylim(bottom=0)\n",
    "plt.title('Total Channel View Count vs Video Count')\n",
    "plt.xlabel('Video Count')\n",
    "plt.ylabel('View Count in Millions')\n",
    "\n",
    "locs, labels = plt.yticks()\n",
    "new_tick_locations = locs / 1e6\n",
    "new_tick_labels = ['{:.0f}M'.format(loc) for loc in new_tick_locations]\n",
    "plt.yticks(ticks=locs, labels=new_tick_labels)\n",
    "\n",
    "plt.show()"
   ]
  },
  {
   "cell_type": "markdown",
   "metadata": {},
   "source": [
    "# Subscriber Engagement"
   ]
  },
  {
   "cell_type": "markdown",
   "metadata": {},
   "source": [
    "Here we will be analyzing the subscriber engagement through comparing the relationship between subscriber count and view count for each channel.\n",
    "\n",
    "Therefore we will create a new metric called subscriber engagement that will be given by the ratio: view count / subscriber count.\n",
    "\n",
    "That way, if the channel has:\n",
    "\n",
    "many subscribers and many views -->  the channel will have average subscriber engagement\n",
    "few subscribers and many views -->  the channel will have high subscriber engagement\n",
    "many subscribers and few views -->  the channel will have low subscriber engagement\n",
    "few subscribers and few views -->  the channel will have average subscriber engagement\n",
    "\n",
    "We will create a new dataframe that contains the name of the channel and its corresponding subscriber engagement. It will be ordered by decreasing subscriber engagement."
   ]
  },
  {
   "cell_type": "code",
   "execution_count": null,
   "metadata": {},
   "outputs": [],
   "source": [
    "channelStatistics['subscriberEngagement'] = channelStatistics['viewCount'] / channelStatistics['subscriberCount']\n",
    "\n",
    "subscriberEngagementDf = channelStatistics[['channelName', 'viewCount', 'subscriberCount', 'subscriberEngagement']].sort_values(by='subscriberEngagement', ascending=False)\n",
    "\n",
    "subscriberEngagementDf"
   ]
  },
  {
   "cell_type": "markdown",
   "metadata": {},
   "source": [
    "After that, we will plot the different subscriber engagments in a graph that contains the subscriber count on the x axis and the view count on the y axis."
   ]
  },
  {
   "cell_type": "code",
   "execution_count": null,
   "metadata": {},
   "outputs": [],
   "source": [
    "plt.figure(figsize=(10,6))\n",
    "plt.scatter(subscriberEngagementDf['subscriberCount'], subscriberEngagementDf['viewCount'], alpha=0.7)\n",
    "plt.xlim(left=0)\n",
    "plt.ylim(bottom=0)\n",
    "plt.title('Total Channel View Count vs Subscriber Count')\n",
    "plt.xlabel('Subscriber Count')\n",
    "plt.ylabel('View Count in Millions')\n",
    "\n",
    "ylocs, ylabels = plt.yticks()\n",
    "newYTickLocations = ylocs / 1e6\n",
    "newYTickLabels = ['{:.0f}M'.format(loc) for loc in newYTickLocations]\n",
    "plt.yticks(ticks=ylocs, labels=newYTickLabels)\n",
    "\n",
    "xlocs, xlabels = plt.xticks()\n",
    "newXTickLocations = xlocs / 1e6\n",
    "newXTickLabels = ['{:.0f}M'.format(loc) for loc in newXTickLocations]\n",
    "plt.xticks(ticks=xlocs, labels=newXTickLabels)\n",
    "\n",
    "plt.show()"
   ]
  },
  {
   "cell_type": "markdown",
   "metadata": {},
   "source": [
    "# Video View Count Over Time"
   ]
  },
  {
   "cell_type": "markdown",
   "metadata": {},
   "source": [
    "Here we will analyze the view count of a particular channel over time.\n",
    "\n",
    "To do so, first, we will filter to only the videos of the channel we desire to visualize the data for.\n",
    "\n",
    "After that, we will plot each video of a given channel on a scatter plot, where the x axis will be time and the y axis will be the view count.\n",
    "\n",
    "But before any of that, we will create a dataframe that contains all of the unique channels of our data set so we can choose which channel we will want to filter out."
   ]
  },
  {
   "cell_type": "code",
   "execution_count": null,
   "metadata": {},
   "outputs": [],
   "source": [
    "uniqueChannels = videoStatistics[['channelTitle', 'channelID']].drop_duplicates()\n",
    "\n",
    "uniqueChannels"
   ]
  },
  {
   "cell_type": "markdown",
   "metadata": {},
   "source": [
    "Now we will filter the videos for the our desired channel and plot the data."
   ]
  },
  {
   "cell_type": "code",
   "execution_count": null,
   "metadata": {},
   "outputs": [],
   "source": [
    "channelName = 'GORGONOID'\n",
    "channelViewCountOverTimeDf = videoStatistics[videoStatistics['channelTitle'] == channelName].copy()\n",
    "\n",
    "channelViewCountOverTimeDf['videoPublishDatetime'] = pd.to_datetime(channelViewCountOverTimeDf['videoPublishDatetime'])\n",
    "\n",
    "channelViewCountOverTimeDf['videoPublishDatetime'] = channelViewCountOverTimeDf['videoPublishDatetime'].dt.tz_localize(None)\n",
    "\n",
    "numericDates = mdates.date2num(channelViewCountOverTimeDf['videoPublishDatetime'])\n",
    "\n",
    "slope, intercept = np.polyfit(numericDates, channelViewCountOverTimeDf['videoViewCount'], 1)\n",
    "\n",
    "regressionLine = slope * numericDates + intercept\n",
    "\n",
    "plt.figure(figsize=(10,6))\n",
    "plt.scatter(channelViewCountOverTimeDf['videoPublishDatetime'], channelViewCountOverTimeDf['videoViewCount'])\n",
    "\n",
    "plt.plot(channelViewCountOverTimeDf['videoPublishDatetime'], regressionLine, color='red', label=f'Linear Regression | Slope = {slope:.0f}')\n",
    "\n",
    "plt.gca().xaxis.set_major_locator(mdates.YearLocator())\n",
    "plt.gca().xaxis.set_major_formatter(mdates.DateFormatter('%Y'))\n",
    "\n",
    "maxViewCount = channelViewCountOverTimeDf['videoViewCount'].max()\n",
    "nextMillion = np.ceil(maxViewCount / 1e6) * 1e6\n",
    "\n",
    "stepSize = 1e6\n",
    "yticks = np.arange(0, nextMillion+1, step=stepSize)\n",
    "\n",
    "plt.yticks(ticks=yticks, labels=[f\"{int(tick/1e6)}M\" for tick in yticks])\n",
    "\n",
    "plt.title('Video View Count Over Time')\n",
    "plt.xlabel('Time')\n",
    "plt.ylabel('View Count in Millions')\n",
    "\n",
    "plt.legend()\n",
    "plt.show()"
   ]
  },
  {
   "cell_type": "code",
   "execution_count": null,
   "metadata": {},
   "outputs": [],
   "source": [
    "channelViewCountOverTimeDf['semester'] = (channelViewCountOverTimeDf['videoPublishDatetime'].dt.month - 1) // 6 + 1\n",
    "\n",
    "# Create a year-semester column for grouping\n",
    "channelViewCountOverTimeDf['yearSemester'] = channelViewCountOverTimeDf['videoPublishDatetime'].dt.year.astype(str) + '-' + channelViewCountOverTimeDf['semester'].astype(str)\n",
    "\n",
    "\n",
    "# Group by year-semester and calculate the average view count\n",
    "semesterAverage = channelViewCountOverTimeDf.groupby('yearSemester')['videoViewCount'].mean().reset_index()\n",
    "\n",
    "minYear = channelViewCountOverTimeDf['videoPublishDatetime'].dt.year.min()\n",
    "maxYear = channelViewCountOverTimeDf['videoPublishDatetime'].dt.year.max()\n",
    "\n",
    "allSemesters = [f\"{year}-{semester}\" for year in range(minYear, maxYear + 1) for semester in range(1, 3)]\n",
    "\n",
    "i = 0\n",
    "while i < len(semesterAverage):\n",
    "    if allSemesters[i] != semesterAverage['yearSemester'].loc[i]:\n",
    "\n",
    "        newRow = pd.DataFrame({\n",
    "            'yearSemester': [allSemesters[i]],\n",
    "            'videoViewCount': [0]\n",
    "        }, index=[i])\n",
    "        semesterAverage = pd.concat([semesterAverage.loc[:i-1], newRow, semesterAverage.loc[i:]])\n",
    "        semesterAverage = semesterAverage.reset_index(drop=True)\n",
    "    \n",
    "    i += 1\n",
    "\n",
    "semesterAverage['numericSemester'] = semesterAverage['yearSemester'].apply(\n",
    "    lambda x: float(x.split('-')[0]) + (0.5 if x.split('-')[1] == '2' else 0.0)\n",
    ")\n",
    "\n",
    "# Perform linear regression using numpy's polyfit\n",
    "slope, intercept = np.polyfit(semesterAverage['numericSemester'], semesterAverage['videoViewCount'], 1)\n",
    "\n",
    "# Create the regression line\n",
    "regressionLine = slope * semesterAverage['numericSemester'] + intercept\n",
    "\n",
    "plt.figure(figsize=(10, 6))\n",
    "plt.bar(semesterAverage['yearSemester'], semesterAverage['videoViewCount'])\n",
    "\n",
    "plt.plot(semesterAverage['yearSemester'], regressionLine, color='red', label=f'Linear Regression | Slope = {slope:.0f}')\n",
    "\n",
    "plt.title('Average Video View Count Per Semester')\n",
    "plt.xlabel('Semester')\n",
    "plt.ylabel('Average View Count')\n",
    "plt.xticks(rotation=45)\n",
    "\n",
    "maxViewCount = semesterAverage['videoViewCount'].max()\n",
    "nextHundredK = np.ceil(maxViewCount / 1e5) * 1e5\n",
    "yticks = np.arange(0, nextHundredK + 1, step=1e5)\n",
    "\n",
    "ytickLabels = [f\"{tick/1e3:.0f}K\" for tick in yticks]\n",
    "\n",
    "plt.yticks(ticks=yticks, labels=ytickLabels)\n",
    "\n",
    "plt.legend()\n",
    "\n",
    "plt.show()"
   ]
  },
  {
   "cell_type": "code",
   "execution_count": null,
   "metadata": {},
   "outputs": [],
   "source": [
    "videoStatistics.info()"
   ]
  },
  {
   "cell_type": "code",
   "execution_count": null,
   "metadata": {},
   "outputs": [],
   "source": [
    "videoStatistics"
   ]
  }
 ],
 "metadata": {
  "kernelspec": {
   "display_name": "Python 3",
   "language": "python",
   "name": "python3"
  },
  "language_info": {
   "codemirror_mode": {
    "name": "ipython",
    "version": 3
   },
   "file_extension": ".py",
   "mimetype": "text/x-python",
   "name": "python",
   "nbconvert_exporter": "python",
   "pygments_lexer": "ipython3",
   "version": "3.12.1"
  }
 },
 "nbformat": 4,
 "nbformat_minor": 2
}
