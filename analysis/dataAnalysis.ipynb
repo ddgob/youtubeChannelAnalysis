{
 "cells": [
  {
   "cell_type": "markdown",
   "metadata": {},
   "source": [
    "# Youtube Channel Statistic Analysis"
   ]
  },
  {
   "cell_type": "markdown",
   "metadata": {},
   "source": [
    "Here we will analyze all the data that we collected from the youtube data API."
   ]
  },
  {
   "cell_type": "markdown",
   "metadata": {},
   "source": [
    "## Necessary Imports"
   ]
  },
  {
   "cell_type": "markdown",
   "metadata": {},
   "source": [
    "Here we will import necessary libraries."
   ]
  },
  {
   "cell_type": "code",
   "execution_count": null,
   "metadata": {},
   "outputs": [],
   "source": [
    "import pandas as pd\n",
    "import matplotlib.pyplot as plt\n",
    "import matplotlib.dates as mdates\n",
    "import numpy as np"
   ]
  },
  {
   "cell_type": "markdown",
   "metadata": {},
   "source": [
    "## Import Data from Data Files"
   ]
  },
  {
   "cell_type": "markdown",
   "metadata": {},
   "source": [
    "Here we will import the data from the csv files in the data directory of our project and save it to dataframes."
   ]
  },
  {
   "cell_type": "code",
   "execution_count": null,
   "metadata": {},
   "outputs": [],
   "source": [
    "channelStatistics = pd.read_pickle('../data/channelStatistics.pkl')\n",
    "\n",
    "videoStatistics = pd.read_pickle('../data/videoStatistics.pkl')"
   ]
  },
  {
   "cell_type": "code",
   "execution_count": null,
   "metadata": {},
   "outputs": [],
   "source": [
    "channelStatistics.info()"
   ]
  },
  {
   "cell_type": "code",
   "execution_count": null,
   "metadata": {},
   "outputs": [],
   "source": [
    "videoStatistics.info()"
   ]
  },
  {
   "cell_type": "markdown",
   "metadata": {},
   "source": [
    "As mentioned when cleaning the data, since we are still able to run operations such as sum() on a column that contains numpy NaN's, we will not be dropping these rows (videos) as they will not hinder our data analysis."
   ]
  },
  {
   "cell_type": "markdown",
   "metadata": {},
   "source": [
    "# Average Views Per Video"
   ]
  },
  {
   "cell_type": "markdown",
   "metadata": {},
   "source": [
    "Here we will analyze the average number of views per videos which will give us a broad idea of how the channels video's perform."
   ]
  },
  {
   "cell_type": "code",
   "execution_count": null,
   "metadata": {},
   "outputs": [],
   "source": [
    "channelStatistics['averageViewsPerVideo'] = channelStatistics['viewCount'] / channelStatistics['videoCount']\n",
    "\n",
    "averageViewsPerVideoDf = channelStatistics[['channelName', 'viewCount', 'videoCount', 'averageViewsPerVideo']].sort_values(by='averageViewsPerVideo', ascending=False)\n",
    "\n",
    "averageViewsPerVideoDf\n"
   ]
  },
  {
   "cell_type": "markdown",
   "metadata": {},
   "source": [
    "Now we will plot this average on a graph where the x axis will be the video count and the y axis will be the view count."
   ]
  },
  {
   "cell_type": "code",
   "execution_count": null,
   "metadata": {},
   "outputs": [],
   "source": [
    "plt.figure(figsize=(10,6))\n",
    "plt.scatter(averageViewsPerVideoDf['videoCount'], averageViewsPerVideoDf['viewCount'], alpha=0.7)\n",
    "plt.xlim(left=0)\n",
    "plt.ylim(bottom=0)\n",
    "plt.title('Total Channel View Count vs Video Count')\n",
    "plt.xlabel('Video Count')\n",
    "plt.ylabel('View Count in Millions')\n",
    "\n",
    "locs, labels = plt.yticks()\n",
    "new_tick_locations = locs / 1e6\n",
    "new_tick_labels = ['{:.0f}M'.format(loc) for loc in new_tick_locations]\n",
    "plt.yticks(ticks=locs, labels=new_tick_labels)\n",
    "\n",
    "plt.show()"
   ]
  },
  {
   "cell_type": "markdown",
   "metadata": {},
   "source": [
    "# Subscriber Engagement"
   ]
  },
  {
   "cell_type": "markdown",
   "metadata": {},
   "source": [
    "Here we will be analyzing the subscriber engagement through comparing the relationship between subscriber count and view count for each channel.\n",
    "\n",
    "Therefore we will create a new metric called subscriber engagement that will be given by the ratio: view count / subscriber count.\n",
    "\n",
    "That way, if the channel has:\n",
    "\n",
    "many subscribers and many views -->  the channel will have average subscriber engagement\n",
    "few subscribers and many views -->  the channel will have high subscriber engagement\n",
    "many subscribers and few views -->  the channel will have low subscriber engagement\n",
    "few subscribers and few views -->  the channel will have average subscriber engagement\n",
    "\n",
    "We will create a new dataframe that contains the name of the channel and its corresponding subscriber engagement. It will be ordered by decreasing subscriber engagement."
   ]
  },
  {
   "cell_type": "code",
   "execution_count": null,
   "metadata": {},
   "outputs": [],
   "source": [
    "channelStatistics['subscriberEngagement'] = channelStatistics['viewCount'] / channelStatistics['subscriberCount']\n",
    "\n",
    "subscriberEngagementDf = channelStatistics[['channelName', 'viewCount', 'subscriberCount', 'subscriberEngagement']].sort_values(by='subscriberEngagement', ascending=False)\n",
    "\n",
    "subscriberEngagementDf"
   ]
  },
  {
   "cell_type": "markdown",
   "metadata": {},
   "source": [
    "After that, we will plot the different subscriber engagments in a graph that contains the subscriber count on the x axis and the view count on the y axis."
   ]
  },
  {
   "cell_type": "code",
   "execution_count": null,
   "metadata": {},
   "outputs": [],
   "source": [
    "plt.figure(figsize=(10,6))\n",
    "plt.scatter(subscriberEngagementDf['subscriberCount'], subscriberEngagementDf['viewCount'], alpha=0.7)\n",
    "plt.xlim(left=0)\n",
    "plt.ylim(bottom=0)\n",
    "plt.title('Total Channel View Count vs Subscriber Count')\n",
    "plt.xlabel('Subscriber Count')\n",
    "plt.ylabel('View Count in Millions')\n",
    "\n",
    "ylocs, ylabels = plt.yticks()\n",
    "newYTickLocations = ylocs / 1e6\n",
    "newYTickLabels = ['{:.0f}M'.format(loc) for loc in newYTickLocations]\n",
    "plt.yticks(ticks=ylocs, labels=newYTickLabels)\n",
    "\n",
    "xlocs, xlabels = plt.xticks()\n",
    "newXTickLocations = xlocs / 1e6\n",
    "newXTickLabels = ['{:.0f}M'.format(loc) for loc in newXTickLocations]\n",
    "plt.xticks(ticks=xlocs, labels=newXTickLabels)\n",
    "\n",
    "plt.show()"
   ]
  },
  {
   "cell_type": "markdown",
   "metadata": {},
   "source": [
    "# Metrics Over Time"
   ]
  },
  {
   "cell_type": "markdown",
   "metadata": {},
   "source": [
    "Since plotting metrics according to date will be very common in our analysis, we will be creating a function that takes as parameters:\n",
    " \n",
    "- The channel we want to analyze\n",
    "- The metric (column name) we want to analyze and plots it as the y axis of a plot that has time in the x axis\n",
    "- The scale we want to analyze the metric in the y axis, which can be either:\n",
    "    - 1e6 (in millions)\n",
    "    - 1e5 (in hundreds of thousands)\n",
    "    - 1e4 (in tens of thousands)\n",
    "    - 1e3 (in thousands)\n",
    "    - 1e2 (in hundreds, but displayed as units)\n",
    "\n",
    "and creates scatter plots to visualize the data.\n",
    "\n",
    "We will also add a feature to this function to plot a linear regression line to see the trend in the plot.\n",
    "\n",
    "OBS.: the dataframe that contains the metric and the datetime we will be analyzing will be hardcoded as the video statistics dataframe, since it is the only dataframe we have that contains datetime info."
   ]
  },
  {
   "cell_type": "code",
   "execution_count": null,
   "metadata": {},
   "outputs": [],
   "source": [
    "def convertDateAndTimeColumnToLocalizedDateTime(channelName):\n",
    "    \n",
    "    channelMetricOverTimeDf = videoStatistics[videoStatistics['channelTitle'] == channelName].copy()\n",
    "\n",
    "    channelMetricOverTimeDf['videoPublishDatetime'] = pd.to_datetime(channelMetricOverTimeDf['videoPublishDatetime'])\n",
    "\n",
    "    channelMetricOverTimeDf['videoPublishDatetime'] = channelMetricOverTimeDf['videoPublishDatetime'].dt.tz_localize(None)\n",
    "\n",
    "    return channelMetricOverTimeDf\n",
    "\n",
    "def selectYaxisScale(yAxisStep):\n",
    "    \n",
    "    if yAxisStep == 1e6:\n",
    "        tickStep = yAxisStep\n",
    "        tickLabel = 'M'\n",
    "        tickName = 'Millions'\n",
    "    elif yAxisStep == 1e5:\n",
    "        tickStep = 1e3\n",
    "        tickLabel = 'K'\n",
    "        tickName = 'Hundreds of Thousands'\n",
    "    elif yAxisStep == 1e4:\n",
    "        tickStep = 1e3\n",
    "        tickLabel = 'K'\n",
    "        tickName = 'Tens of Thousands'\n",
    "    elif yAxisStep == 1e3:\n",
    "        tickStep = 1e3\n",
    "        tickLabel = 'K'\n",
    "        tickName = 'Thousands'\n",
    "    elif yAxisStep == 1e2:\n",
    "        tickStep = 1\n",
    "        tickLabel = ''\n",
    "        tickName = 'Units'\n",
    "    else:\n",
    "        return 'Error while generating y axis. Please enter correct yAxisStep parameter value.'\n",
    "    \n",
    "    return tickStep, tickLabel, tickName\n",
    "\n",
    "\n",
    "\n",
    "def scatterPlotChannelMetricOverTime(channelName, metricName, yAxisStep, isPlotAllChannels=False):\n",
    "    \n",
    "    plt.figure(figsize=(10,6))\n",
    "    \n",
    "    maxViewCount = 0\n",
    "    nextStep = None\n",
    "    yticks = None\n",
    "    if isPlotAllChannels:\n",
    "        allChannelsDf = videoStatistics.copy()\n",
    "        allChannelsDf['videoPublishDatetime'] = pd.to_datetime(allChannelsDf['videoPublishDatetime'])\n",
    "        allChannelsDf['videoPublishDatetime'] = allChannelsDf['videoPublishDatetime'].dt.tz_localize(None)\n",
    "\n",
    "        numericDatesAll = mdates.date2num(allChannelsDf['videoPublishDatetime'])\n",
    "        slopeAll, interceptAll = np.polyfit(numericDatesAll, allChannelsDf[metricName], 1)\n",
    "        regressionLineAll = slopeAll * numericDatesAll + interceptAll\n",
    "\n",
    "        plt.scatter(allChannelsDf['videoPublishDatetime'], allChannelsDf[metricName], color='green', alpha=0.3, label='All Channels')\n",
    "        plt.plot(allChannelsDf['videoPublishDatetime'], regressionLineAll, color='purple', label=f'All Channels Linear Regression | Slope = {slopeAll:.3f}')\n",
    "\n",
    "        maxViewCount = allChannelsDf[metricName].max()\n",
    "        nextStep = np.ceil(maxViewCount / yAxisStep) * yAxisStep\n",
    "        yticks = np.arange(0, nextStep+1, step=yAxisStep)\n",
    "    \n",
    "    channelMetricOverTimeDf = convertDateAndTimeColumnToLocalizedDateTime(channelName)\n",
    "\n",
    "    numericDates = mdates.date2num(channelMetricOverTimeDf['videoPublishDatetime'])\n",
    "\n",
    "    slope, intercept = np.polyfit(numericDates, channelMetricOverTimeDf[metricName], 1)\n",
    "\n",
    "    regressionLine = slope * numericDates + intercept\n",
    "\n",
    "    tickStep, tickLabel, tickName = selectYaxisScale(yAxisStep)\n",
    "    \n",
    "    plt.scatter(channelMetricOverTimeDf['videoPublishDatetime'], channelMetricOverTimeDf[metricName], alpha=0.3, label=channelName)\n",
    "\n",
    "    plt.plot(channelMetricOverTimeDf['videoPublishDatetime'], regressionLine, color='red', label=f'{channelName} Linear Regression | Slope = {slope:.3f}')\n",
    "\n",
    "    plt.gca().xaxis.set_major_locator(mdates.YearLocator())\n",
    "    plt.gca().xaxis.set_major_formatter(mdates.DateFormatter('%Y')) \n",
    "\n",
    "    if not isPlotAllChannels:\n",
    "        maxViewCount = channelMetricOverTimeDf[metricName].max()\n",
    "        nextStep = np.ceil(maxViewCount / yAxisStep) * yAxisStep\n",
    "        yticks = np.arange(0, nextStep+1, step=yAxisStep)\n",
    "\n",
    "    plt.yticks(ticks=yticks, labels=[f\"{int(tick/tickStep)}{tickLabel}\" for tick in yticks])\n",
    "\n",
    "    plt.title(f'{metricName} Over Time')\n",
    "    plt.xlabel('Year')\n",
    "    plt.ylabel(f'{metricName} in {tickName}')\n",
    "\n",
    "    plt.legend(loc='upper center', bbox_to_anchor=(0.5, -0.1), fancybox=True, shadow=True, ncol=2)\n",
    "    plt.show()"
   ]
  },
  {
   "cell_type": "markdown",
   "metadata": {},
   "source": [
    "Now we will also add the same plot, but instead of making a scatter plot, we will transform it into a bar chart, where each bar corresponds to the average of the metric over a semester. By grouping the datetimes by semester and taking the average, we can have a broader view of the data."
   ]
  },
  {
   "cell_type": "code",
   "execution_count": null,
   "metadata": {},
   "outputs": [],
   "source": [
    "def barPlotChannelMetricPerSemesterOverTime(channelName, metricName, yAxisStep):\n",
    "\n",
    "    channelMetricOverTimeDf = convertDateAndTimeColumnToLocalizedDateTime(channelName)\n",
    "    \n",
    "    channelMetricOverTimeDf['semester'] = (channelMetricOverTimeDf['videoPublishDatetime'].dt.month - 1) // 6 + 1\n",
    "\n",
    "    channelMetricOverTimeDf['yearSemester'] = channelMetricOverTimeDf['videoPublishDatetime'].dt.year.astype(str) + '-' + channelMetricOverTimeDf['semester'].astype(str)\n",
    "\n",
    "    semesterAverage = channelMetricOverTimeDf.groupby('yearSemester')[metricName].mean().reset_index()\n",
    "\n",
    "    minYear = channelMetricOverTimeDf['videoPublishDatetime'].dt.year.min()\n",
    "    maxYear = channelMetricOverTimeDf['videoPublishDatetime'].dt.year.max()\n",
    "\n",
    "    allSemesters = [f\"{year}-{semester}\" for year in range(minYear, maxYear + 1) for semester in range(1, 3)]\n",
    "\n",
    "    i = 0\n",
    "    while i < len(semesterAverage):\n",
    "        if allSemesters[i] != semesterAverage['yearSemester'].loc[i]:\n",
    "\n",
    "            newRow = pd.DataFrame({\n",
    "                'yearSemester': [allSemesters[i]],\n",
    "                metricName: [0]\n",
    "            }, index=[i])\n",
    "            semesterAverage = pd.concat([semesterAverage.loc[:i-1], newRow, semesterAverage.loc[i:]])\n",
    "            semesterAverage = semesterAverage.reset_index(drop=True)\n",
    "        \n",
    "        i += 1\n",
    "\n",
    "    semesterAverage['numericSemester'] = semesterAverage['yearSemester'].apply(\n",
    "        lambda x: float(x.split('-')[0]) + (0.5 if x.split('-')[1] == '2' else 0.0)\n",
    "    )\n",
    "\n",
    "    slope, intercept = np.polyfit(semesterAverage['numericSemester'], semesterAverage[metricName], 1)\n",
    "\n",
    "    regressionLine = slope * semesterAverage['numericSemester'] + intercept\n",
    "\n",
    "    tickStep, tickLabel, tickName = selectYaxisScale(yAxisStep)\n",
    "\n",
    "    plt.figure(figsize=(10, 6))\n",
    "    plt.plot(semesterAverage['yearSemester'], semesterAverage[metricName], marker='o', linestyle='-')\n",
    "\n",
    "    plt.plot(semesterAverage['yearSemester'], regressionLine, color='red', label=f'Linear Regression | Slope = {slope:.3f}')\n",
    "\n",
    "    plt.title(f'Average {metricName} Per Semester')\n",
    "    plt.xlabel('Semester')\n",
    "    plt.ylabel(f'Average {metricName} in {tickName}')\n",
    "    plt.xticks(rotation=45)\n",
    "\n",
    "    maxViewCount = semesterAverage[metricName].max()\n",
    "    nextStep = np.ceil(maxViewCount / yAxisStep) * yAxisStep\n",
    "    yticks = np.arange(0, nextStep + 1, step=yAxisStep)\n",
    "\n",
    "    plt.yticks(ticks=yticks, labels=[f\"{tick/tickStep:.0f}{tickLabel}\" for tick in yticks])\n",
    "\n",
    "    plt.legend()\n",
    "\n",
    "    plt.show()"
   ]
  },
  {
   "cell_type": "markdown",
   "metadata": {},
   "source": [
    "## Video View Count Over Time"
   ]
  },
  {
   "cell_type": "markdown",
   "metadata": {},
   "source": [
    "Here we will analyze the view count of a particular channel over time.\n",
    "\n",
    "To do so, first, we will create a dataframe that contains all of the unique channels of our data set so we can choose which channel we will want to visualize the data for.\n",
    "\n",
    "After that, we will plot the data using the plot functions we had defined before (above)."
   ]
  },
  {
   "cell_type": "code",
   "execution_count": null,
   "metadata": {},
   "outputs": [],
   "source": [
    "uniqueChannels = videoStatistics[['channelTitle', 'channelID']].drop_duplicates()\n",
    "\n",
    "uniqueChannels"
   ]
  },
  {
   "cell_type": "markdown",
   "metadata": {},
   "source": [
    "Now we will filter the videos for the our desired channel and plot the data."
   ]
  },
  {
   "cell_type": "code",
   "execution_count": null,
   "metadata": {},
   "outputs": [],
   "source": [
    "channelName = 'GORGONOID'\n",
    "\n",
    "scatterPlotChannelMetricOverTime(channelName, 'videoViewCount', 1e6, isPlotAllChannels=True)"
   ]
  },
  {
   "cell_type": "code",
   "execution_count": null,
   "metadata": {},
   "outputs": [],
   "source": [
    "barPlotChannelMetricPerSemesterOverTime(channelName, 'videoViewCount', 1e5)"
   ]
  },
  {
   "cell_type": "markdown",
   "metadata": {},
   "source": [
    "## Like Count Over Time"
   ]
  },
  {
   "cell_type": "markdown",
   "metadata": {},
   "source": [
    "Here we will analyze the like count of a particular channel over time.\n",
    "\n",
    "To do so, first, we will select the channel we want to plot the data for.\n",
    "\n",
    "After that, we will plot the data using the plot functions we had defined before."
   ]
  },
  {
   "cell_type": "code",
   "execution_count": null,
   "metadata": {},
   "outputs": [],
   "source": [
    "channelName = 'GORGONOID'\n",
    "\n",
    "scatterPlotChannelMetricOverTime(channelName, 'videoLikeCount', 1e5, isPlotAllChannels=True)"
   ]
  },
  {
   "cell_type": "code",
   "execution_count": null,
   "metadata": {},
   "outputs": [],
   "source": [
    "barPlotChannelMetricPerSemesterOverTime(channelName, 'videoLikeCount', 1e4)"
   ]
  },
  {
   "cell_type": "markdown",
   "metadata": {},
   "source": [
    "## Comment Count Over Time"
   ]
  },
  {
   "cell_type": "markdown",
   "metadata": {},
   "source": [
    "Here we will analyze the comment count of a particular channel over time.\n",
    "\n",
    "To do so, first, we will select the channel we want to plot the data for.\n",
    "\n",
    "After that, we will plot the data using the plot functions we had defined before."
   ]
  },
  {
   "cell_type": "code",
   "execution_count": null,
   "metadata": {},
   "outputs": [],
   "source": [
    "channelName = 'GORGONOID'\n",
    "\n",
    "scatterPlotChannelMetricOverTime(channelName, 'videoCommentCount', 1e4, isPlotAllChannels=True)"
   ]
  },
  {
   "cell_type": "code",
   "execution_count": null,
   "metadata": {},
   "outputs": [],
   "source": [
    "barPlotChannelMetricPerSemesterOverTime(channelName, 'videoCommentCount', 1e2)"
   ]
  },
  {
   "cell_type": "markdown",
   "metadata": {},
   "source": [
    "## Video Duration Over Time"
   ]
  },
  {
   "cell_type": "markdown",
   "metadata": {},
   "source": [
    "Here we will analyze the video duration of a particular channel over time.\n",
    "\n",
    "To do so, first, we will create a specific plot function for the video duration metric.\n",
    "\n",
    "OBS.: since some changes needed to be made to transform the video duration column into a minute duration, we were not able to use the plot funcitons used before."
   ]
  },
  {
   "cell_type": "code",
   "execution_count": null,
   "metadata": {},
   "outputs": [],
   "source": [
    "def scatterPlotChannelVideoDurationOverTime(channelName, isPlotAllChannels=False):\n",
    "\n",
    "    plt.figure(figsize=(10, 6))\n",
    "    \n",
    "    if isPlotAllChannels:\n",
    "        allChannelsDf = videoStatistics.copy()\n",
    "        allChannelsDf['videoPublishDatetime'] = pd.to_datetime(allChannelsDf['videoPublishDatetime'])\n",
    "        allChannelsDf['videoPublishDatetime'] = allChannelsDf['videoPublishDatetime'].dt.tz_localize(None)\n",
    "\n",
    "        allChannelsDf['videoDuration'] = allChannelsDf['videoDuration'].dt.total_seconds() / 60\n",
    "\n",
    "        numericDatesAll = mdates.date2num(allChannelsDf['videoPublishDatetime'])\n",
    "        slopeAll, interceptAll = np.polyfit(numericDatesAll, allChannelsDf['videoDuration'], 1)\n",
    "        regressionLineAll = slopeAll * numericDatesAll + interceptAll\n",
    "\n",
    "        plt.scatter(allChannelsDf['videoPublishDatetime'], allChannelsDf['videoDuration'], color='green', alpha=0.3, label='All Channels')\n",
    "        plt.plot(allChannelsDf['videoPublishDatetime'], regressionLineAll, color='purple', label=f'All Channels Linear Regression | Slope = {slopeAll:.3f}')\n",
    "\n",
    "    channelVideoDurationOverTime = convertDateAndTimeColumnToLocalizedDateTime(channelName)\n",
    "\n",
    "    channelVideoDurationOverTime['videoDuration'] = channelVideoDurationOverTime['videoDuration'].dt.total_seconds() / 60\n",
    "\n",
    "    numericDates = mdates.date2num(channelVideoDurationOverTime['videoPublishDatetime'])\n",
    "\n",
    "    slope, intercept = np.polyfit(numericDates, channelVideoDurationOverTime['videoDuration'], 1)\n",
    "\n",
    "    regressionLine = slope * numericDates + intercept\n",
    "\n",
    "    plt.scatter(channelVideoDurationOverTime['videoPublishDatetime'], channelVideoDurationOverTime['videoDuration'], alpha=0.3, label=channelName)\n",
    "\n",
    "    plt.plot(channelVideoDurationOverTime['videoPublishDatetime'], regressionLine, color='red', label=f'{channelName} Linear Regression | Slope = {slope:.3f}')\n",
    "\n",
    "    plt.gca().xaxis.set_major_locator(plt.matplotlib.dates.YearLocator())\n",
    "    plt.gca().xaxis.set_major_formatter(plt.matplotlib.dates.DateFormatter('%Y'))\n",
    "\n",
    "    plt.xlabel('Year')\n",
    "    plt.ylabel('Video Duration in Minutes)')\n",
    "    plt.title('Video Duration Over Time')\n",
    "\n",
    "    plt.legend(loc='upper center', bbox_to_anchor=(0.5, -0.1), fancybox=True, shadow=True, ncol=2)\n",
    "    plt.show()\n"
   ]
  },
  {
   "cell_type": "markdown",
   "metadata": {},
   "source": [
    "Now, we will select the channel we want to plot the data for and then we will plot the data."
   ]
  },
  {
   "cell_type": "code",
   "execution_count": null,
   "metadata": {},
   "outputs": [],
   "source": [
    "channelName = 'GORGONOID'\n",
    "\n",
    "scatterPlotChannelVideoDurationOverTime(channelName, isPlotAllChannels=True)"
   ]
  },
  {
   "cell_type": "code",
   "execution_count": null,
   "metadata": {},
   "outputs": [],
   "source": [
    "videoStatistics.info()"
   ]
  },
  {
   "cell_type": "code",
   "execution_count": null,
   "metadata": {},
   "outputs": [],
   "source": [
    "videoStatistics"
   ]
  },
  {
   "cell_type": "code",
   "execution_count": null,
   "metadata": {},
   "outputs": [],
   "source": []
  }
 ],
 "metadata": {
  "kernelspec": {
   "display_name": "Python 3",
   "language": "python",
   "name": "python3"
  },
  "language_info": {
   "codemirror_mode": {
    "name": "ipython",
    "version": 3
   },
   "file_extension": ".py",
   "mimetype": "text/x-python",
   "name": "python",
   "nbconvert_exporter": "python",
   "pygments_lexer": "ipython3",
   "version": "3.12.1"
  }
 },
 "nbformat": 4,
 "nbformat_minor": 2
}
